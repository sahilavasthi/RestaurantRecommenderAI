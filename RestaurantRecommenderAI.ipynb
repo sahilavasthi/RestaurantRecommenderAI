{
 "cells": [
  {
   "cell_type": "markdown",
   "id": "07d25684",
   "metadata": {},
   "source": [
    "## Part 1: Introduction\n",
    "\n",
    "#### Project Background\n",
    "\n",
    "In today's digital age, a Restaurant Recommender is an intelligent system designed to suggest restaurants based on user preferences, location, cuisine preferences, reviews, and other factors. Using machine learning and data analysis, it tailors recommendations to individual tastes, ensuring users discover new and highly-rated dining experiences. Whether you're searching for a hidden gem, a trendy spot, or a budget-friendly option, a Restaurant Recommender makes dining decisions effortless and personalized. To address this, we will develop **RestaurantRecommender AI, a chatbot that combines the power of large language models and rule-based functions to ensure accurate and reliable information delivery**.\n",
    "\n",
    "\n",
    "#### Problem Statement\n",
    "\n",
    "*Given Zomato restaurants dataset containing information about restaurants (restaurant names, restaurant types, rating, average cost, cuisine type, area etc.), I will build a chatbot that parses the dataset and provides accurate restaurants recommendations based on the user requirements*."
   ]
  },
  {
   "cell_type": "code",
   "execution_count": 1485,
   "id": "730e1b7c",
   "metadata": {},
   "outputs": [],
   "source": [
    "# Install OpenAI library\n",
    "!pip install -U -q openai tenacity"
   ]
  },
  {
   "cell_type": "code",
   "execution_count": 1486,
   "id": "5c3a104a",
   "metadata": {},
   "outputs": [
    {
     "data": {
      "text/html": [
       "<div>\n",
       "<style scoped>\n",
       "    .dataframe tbody tr th:only-of-type {\n",
       "        vertical-align: middle;\n",
       "    }\n",
       "\n",
       "    .dataframe tbody tr th {\n",
       "        vertical-align: top;\n",
       "    }\n",
       "\n",
       "    .dataframe thead th {\n",
       "        text-align: right;\n",
       "    }\n",
       "</style>\n",
       "<table border=\"1\" class=\"dataframe\">\n",
       "  <thead>\n",
       "    <tr style=\"text-align: right;\">\n",
       "      <th></th>\n",
       "      <th>Unnamed: 0.1</th>\n",
       "      <th>Unnamed: 0</th>\n",
       "      <th>restaurant name</th>\n",
       "      <th>restaurant type</th>\n",
       "      <th>rate (out of 5)</th>\n",
       "      <th>num of ratings</th>\n",
       "      <th>avg cost (two people)</th>\n",
       "      <th>online_order</th>\n",
       "      <th>table booking</th>\n",
       "      <th>cuisines type</th>\n",
       "      <th>area</th>\n",
       "      <th>local address</th>\n",
       "    </tr>\n",
       "  </thead>\n",
       "  <tbody>\n",
       "    <tr>\n",
       "      <th>0</th>\n",
       "      <td>0</td>\n",
       "      <td>0</td>\n",
       "      <td>#FeelTheROLL</td>\n",
       "      <td>Quick Bites</td>\n",
       "      <td>3.4</td>\n",
       "      <td>7</td>\n",
       "      <td>200.0</td>\n",
       "      <td>No</td>\n",
       "      <td>No</td>\n",
       "      <td>Fast Food</td>\n",
       "      <td>Bellandur</td>\n",
       "      <td>Bellandur</td>\n",
       "    </tr>\n",
       "    <tr>\n",
       "      <th>1</th>\n",
       "      <td>1</td>\n",
       "      <td>1</td>\n",
       "      <td>#L-81 Cafe</td>\n",
       "      <td>Quick Bites</td>\n",
       "      <td>3.9</td>\n",
       "      <td>48</td>\n",
       "      <td>400.0</td>\n",
       "      <td>Yes</td>\n",
       "      <td>No</td>\n",
       "      <td>Fast Food, Beverages</td>\n",
       "      <td>Byresandra,Tavarekere,Madiwala</td>\n",
       "      <td>HSR</td>\n",
       "    </tr>\n",
       "    <tr>\n",
       "      <th>2</th>\n",
       "      <td>2</td>\n",
       "      <td>2</td>\n",
       "      <td>#refuel</td>\n",
       "      <td>Cafe</td>\n",
       "      <td>3.7</td>\n",
       "      <td>37</td>\n",
       "      <td>400.0</td>\n",
       "      <td>Yes</td>\n",
       "      <td>No</td>\n",
       "      <td>Cafe, Beverages</td>\n",
       "      <td>Bannerghatta Road</td>\n",
       "      <td>Bannerghatta Road</td>\n",
       "    </tr>\n",
       "    <tr>\n",
       "      <th>3</th>\n",
       "      <td>3</td>\n",
       "      <td>3</td>\n",
       "      <td>'@ Biryani Central</td>\n",
       "      <td>Casual Dining</td>\n",
       "      <td>2.7</td>\n",
       "      <td>135</td>\n",
       "      <td>550.0</td>\n",
       "      <td>Yes</td>\n",
       "      <td>No</td>\n",
       "      <td>Biryani, Mughlai, Chinese</td>\n",
       "      <td>Marathahalli</td>\n",
       "      <td>Marathahalli</td>\n",
       "    </tr>\n",
       "    <tr>\n",
       "      <th>4</th>\n",
       "      <td>4</td>\n",
       "      <td>4</td>\n",
       "      <td>'@ The Bbq</td>\n",
       "      <td>Casual Dining</td>\n",
       "      <td>2.8</td>\n",
       "      <td>40</td>\n",
       "      <td>700.0</td>\n",
       "      <td>Yes</td>\n",
       "      <td>No</td>\n",
       "      <td>BBQ, Continental, North Indian, Chinese, Bever...</td>\n",
       "      <td>Bellandur</td>\n",
       "      <td>Bellandur</td>\n",
       "    </tr>\n",
       "  </tbody>\n",
       "</table>\n",
       "</div>"
      ],
      "text/plain": [
       "   Unnamed: 0.1  Unnamed: 0     restaurant name restaurant type  rate (out of 5)  num of ratings  \\\n",
       "0             0           0        #FeelTheROLL     Quick Bites              3.4               7   \n",
       "1             1           1          #L-81 Cafe     Quick Bites              3.9              48   \n",
       "2             2           2             #refuel            Cafe              3.7              37   \n",
       "3             3           3  '@ Biryani Central   Casual Dining              2.7             135   \n",
       "4             4           4          '@ The Bbq   Casual Dining              2.8              40   \n",
       "\n",
       "   avg cost (two people) online_order table booking  \\\n",
       "0                  200.0           No            No   \n",
       "1                  400.0          Yes            No   \n",
       "2                  400.0          Yes            No   \n",
       "3                  550.0          Yes            No   \n",
       "4                  700.0          Yes            No   \n",
       "\n",
       "                                       cuisines type                            area  \\\n",
       "0                                          Fast Food                       Bellandur   \n",
       "1                               Fast Food, Beverages  Byresandra,Tavarekere,Madiwala   \n",
       "2                                    Cafe, Beverages               Bannerghatta Road   \n",
       "3                          Biryani, Mughlai, Chinese                    Marathahalli   \n",
       "4  BBQ, Continental, North Indian, Chinese, Bever...                       Bellandur   \n",
       "\n",
       "       local address  \n",
       "0          Bellandur  \n",
       "1                HSR  \n",
       "2  Bannerghatta Road  \n",
       "3       Marathahalli  \n",
       "4          Bellandur  "
      ]
     },
     "execution_count": 1486,
     "metadata": {},
     "output_type": "execute_result"
    }
   ],
   "source": [
    "# Import the libraries\n",
    "import pandas as pd\n",
    "from IPython.display import display, HTML\n",
    "# Set the display width to control the output width\n",
    "pd.set_option('display.width', 100)\n",
    "\n",
    "# Read the dataset and read the Laptop Dataset\n",
    "df = pd.read_csv('/Users/sahilavasthi/upGrad/genai/project/zomato.csv')\n",
    "df.head(5)"
   ]
  },
  {
   "cell_type": "code",
   "execution_count": 1487,
   "id": "8a496866",
   "metadata": {},
   "outputs": [
    {
     "name": "stdout",
     "output_type": "stream",
     "text": [
      "<class 'pandas.core.frame.DataFrame'>\n",
      "RangeIndex: 7105 entries, 0 to 7104\n",
      "Data columns (total 12 columns):\n",
      " #   Column                 Non-Null Count  Dtype  \n",
      "---  ------                 --------------  -----  \n",
      " 0   Unnamed: 0.1           7105 non-null   int64  \n",
      " 1   Unnamed: 0             7105 non-null   int64  \n",
      " 2   restaurant name        7105 non-null   object \n",
      " 3   restaurant type        7105 non-null   object \n",
      " 4   rate (out of 5)        7037 non-null   float64\n",
      " 5   num of ratings         7105 non-null   int64  \n",
      " 6   avg cost (two people)  7048 non-null   float64\n",
      " 7   online_order           7105 non-null   object \n",
      " 8   table booking          7105 non-null   object \n",
      " 9   cuisines type          7105 non-null   object \n",
      " 10  area                   7105 non-null   object \n",
      " 11  local address          7105 non-null   object \n",
      "dtypes: float64(2), int64(3), object(7)\n",
      "memory usage: 666.2+ KB\n"
     ]
    }
   ],
   "source": [
    "df.info()"
   ]
  },
  {
   "cell_type": "markdown",
   "id": "cf6f40b1",
   "metadata": {},
   "source": [
    "#### Approach:\n",
    "\n",
    "1. **Conversation and Information Gathering**: The chatbot will utilize language models to understand and generate natural responses. Through a conversational flow, it will ask relevant questions to gather information about the user's requirements.\n",
    "2. **Information Extraction**: Once the essential information is collected, rule-based functions come into play, extracting top 3 restaurant that best matches the user's needs. We will be using function calling to extract information from the database / csv file & data comparisons\n",
    "3. **Personalized Recommendation**: Leveraging this extracted information, the chatbot engages in further dialogue with the user, efficiently addressing their queries and aiding them in finding the perfect laptop solution."
   ]
  },
  {
   "cell_type": "markdown",
   "id": "f8311c5e",
   "metadata": {},
   "source": [
    "## Part 2: System Design"
   ]
  },
  {
   "cell_type": "markdown",
   "id": "39635cc0",
   "metadata": {},
   "source": [
    "#### Dataset\n",
    "\n",
    "We have a dataset `Zomato.csv` where  each row describes the features of a single restaurant and also has ratings, area, online order, cusine types, etc. at the end. The chatbot that we build will leverage LLMs to parse above described information in multiple columns and provide best top 3 restaurant recommendations."
   ]
  },
  {
   "cell_type": "markdown",
   "id": "d91da1e7",
   "metadata": {},
   "source": [
    "The chatbot should ask a series of questions to the user,\n",
    "- Determine the user's requirments. We will use 8 features to encapsulate the user's needs. The 8 features are as follows:\n",
    "    - Restaurant type\n",
    "    - Minimum rating\n",
    "    - Minimum number of reviews\n",
    "    - Average cost per person\n",
    "    - Online order\n",
    "    - Table booking\n",
    "    - Area\n",
    "    - Cuisines type \n",
    "\n",
    "\n",
    "- Confirm if the user's requirements have been correctly captured at the end.\n",
    "\n",
    "After that the chatbot lists down the top 3 restaurants that are the most relevant, and engages in further conversation to help the user find the best one."
   ]
  },
  {
   "cell_type": "markdown",
   "id": "7b09f273",
   "metadata": {},
   "source": [
    "`Stage 1`\n",
    "\n",
    "- Intent Clarity Layer\n",
    "\n",
    "`Stage 2`\n",
    "\n",
    "- Restaurant Mapping Layer\n",
    "- Restaurant Information Extraction Layer\n",
    "\n",
    "`Stage 3`\n",
    "\n",
    "- Restaurant recommendation layer"
   ]
  },
  {
   "cell_type": "markdown",
   "id": "d20fd99f",
   "metadata": {},
   "source": [
    "##### Major functions behind the Chatbot\n",
    "\n",
    "Let's now look at a brief overview of the major functions that form the chatbot. We'll take a deep dive later\n",
    "\n",
    "- `initialize_conversation()`: This initializes the variable conversation with the system message.\n",
    "- `get_chat_model_completions()`: This takes the ongoing conversation as the input and returns the response by the assistant\n",
    "- `moderation_check()`: This checks if the user's or the assistant's message is inappropriate. If any of these is inappropriate, it ends the conversation.\n",
    "- `compare_restaurants_features_with_user_described_restaurant_features` - OpenAI function description for function calling API\n",
    "- `get_restaurant_details()`: This function combines all the required columns from the dataset and create one additional column in the dict format for comparisons\n",
    "-  `compare_restaurants_features_with_user_described_restaurant_features()`: This function takes the assistant's response and evaluates if the chatbot has captured the user's `profile clearly` in order to start comparing the restaurant features with user defined features and come back with the top 3 restaurant recommendations.\n",
    "- `recommendation_validation()`: This function verifies that the restaurant recommendations are good enough, has score greater than equal to 5, and matches the user's requirements.\n",
    "- `restaurant_recommendation()`: This function recommends the restaturants"
   ]
  },
  {
   "cell_type": "markdown",
   "id": "739126c8",
   "metadata": {},
   "source": [
    "## Part 3: Implementation"
   ]
  },
  {
   "cell_type": "markdown",
   "id": "3b855949-253f-46d0-bd26-fb9776f23e73",
   "metadata": {},
   "source": [
    "## Stage 1"
   ]
  },
  {
   "cell_type": "markdown",
   "id": "50054cf9",
   "metadata": {},
   "source": [
    "### 3.1 - Import the libraries\n",
    "\n",
    "Let's start by importing the libraries that we'll require for this project. Following are the ones:\n",
    "- openai\n",
    "- pandas\n",
    "- os, json, ast\n",
    "\n",
    "Make sure the api key is stored in the text file `OPENAI_API_Key.txt`."
   ]
  },
  {
   "cell_type": "code",
   "execution_count": 1497,
   "id": "6c9037f6",
   "metadata": {},
   "outputs": [],
   "source": [
    "## Import the necessary libraries for building the project\n",
    "import os,json,ast\n",
    "import openai\n",
    "import pandas as pd\n",
    "\n",
    "from tenacity import retry, wait_random_exponential, stop_after_attempt"
   ]
  },
  {
   "cell_type": "code",
   "execution_count": 1498,
   "id": "dbc9dc5b",
   "metadata": {},
   "outputs": [],
   "source": [
    "filepath = '/Users/sahilavasthi/upGrad/genai/'\n",
    "\n",
    "with open(filepath + \"OpenAI_API_Key.txt\", \"r\") as f:\n",
    "  openai.api_key = ' '.join(f.readlines())\n",
    "\n",
    "os.environ['OPENAI_API_KEY'] = openai.api_key.strip()"
   ]
  },
  {
   "cell_type": "markdown",
   "id": "6c3bdde0",
   "metadata": {},
   "source": [
    "### 3.2 - Implementing / defining modular functions\n",
    "\n",
    "Let's start with the first part of the implementation - building the `intent clarity` layer. As mentioned earlier, this layer helps in identifying the user requirements and passing it on to the product matching layer. Here are the functions that we would be using for building these layers:\n",
    "\n",
    "- ### `initialize_conversation()`\n"
   ]
  },
  {
   "cell_type": "code",
   "execution_count": 1500,
   "id": "319aee38",
   "metadata": {},
   "outputs": [],
   "source": [
    "def initialize_conversation():\n",
    "    delimiter = \"####\"\n",
    "\n",
    "    system_message = f\"\"\"\n",
    "    You are an intelligent restaurant recommnder expert and your goal is to find the best restaurant for a user.\n",
    "    You are trying to understand the user's requirement for these restaurant's features: ('Restaurant type', 'Minimum rating', 'Minimum number of reviews', 'Average cost for 2 person', 'Online order'\n",
    "    ,'Table booking', 'Area', 'Cuisines type').\n",
    "    You need to ask relevant questions and understand the user need for each feature by analysing the user's responses.\n",
    "    After understanding their requirements, you'll use a function call to suggest the top 3 restaurant with their respective user match score.\n",
    "    Recommend these restaurants and answer any user's query about them.\n",
    "\n",
    "    {delimiter} Here are certain guidelines that you need to follow:\n",
    "    Don't ask questions about more than 2 features at a time.\n",
    "    If the user's budget is less than says less than 40 INR, please mention that there are no restaurants in that range.\n",
    "    Recommend the top3 restaurants in the following format:\n",
    "    Start with a brief summary of each restaurant in the following format, in decreasing order of price of restaurants:\n",
    "    1. <Restaurant Name> : <Major specifications of the restaurant>, The budget remaining after spending in the restaurant would be <Price in Rs>\n",
    "    2. <Restaurant Name> : <Major specifications of the restaurant>, The budget remaining after spending in the restaurant would be <Price in Rs>\n",
    "    3. <Restaurant Name> : <Major specifications of the restaurant>, The budget remaining after spending in the restaurant would be <Price in Rs>\n",
    "    {delimiter}\n",
    "\n",
    "    {delimiter}To find the top3 restaurants, you need to have the following chain of thoughts:\n",
    "    Thought 1: Ask one question to understand the user's profile and requirements.\n",
    "    If their primary reservation / online order  for the restaurant is unclear. Ask another question to comprehend their needs.\n",
    "    Answer \"Yes\" or \"No\" to indicate if you understand the requirements.\n",
    "    If yes, proceed to the next step. Otherwise, rephrase the question to capture their profile.\n",
    "\n",
    "    Thought 2: Now, you are trying to understand the requirements for other features which you couldn't in the previous step.\n",
    "    Ask questions to strengthen your understanding of the user's profile.\n",
    "    Don't ask questions about more than 2 features at a time.\n",
    "    Answer \"Yes\" or \"No\" to indicate if you understood all the needs of the features and are confident about the same.\n",
    "    If yes, move to the next Thought. If no, ask question on the features whose needs you are unsure of.\n",
    "    It is a good practice to ask question with a sound logic as opposed to directly citing the feature you want to understand the need for.{delimiter}\n",
    "    {delimiter}\n",
    "\n",
    "    {delimiter} Here is a sample conversation between the user and assistant:\n",
    "    Assistant: \"Hello! I'm here to help you find the perfect restaurant that suits your needs. Could you please share your requirements?\"\n",
    "    User: \"Hi, I am looking for a restaurant which serves cuisine type atleast Biryani & Mughlai.\"\n",
    "    Assistant: \"Great! As you like Biryani & Mughlai, you likely want to order from a restaurant that serves these cuisines. Hence, the restaurant should be serving atleast these cuisines under the price and area of your interest. May I know what is the price and area do you primarily focus on? Understanding the specific type of restaurant work will help me tailor my recommendations accordingly. Let me know if my understanding is correct until now.\"\n",
    "    User: \"Yes, I am looking for an average price for 2 people around 1000 in the Marathahalli area.\"\n",
    "    Assistant: \"Thank you for providing that information. Do you have any number related to the rating of the restaurant from 1-5 and for the number of ratings? Understanding these would help me to futher narrow down the right list of restaurants for you.\"\n",
    "    User: \"Yes, rating should be atleast 3 and number of ratings should be atleast 50.\"\n",
    "    Assistant: \"Thank you for the information. To ensure I have a complete understanding of your needs, I have one more question: Are you looking for Casual Dining, Quick Bites, Pub, Takeaway, Delivery?\"\n",
    "    User: \"Yes, I am looking for Casual Dining.\"\n",
    "    Assistant: \"Thank you for the information. Therefore, you are not looking for an online order and want to book the table in the restaturant. Could you kindly confirm this? This will help me to find the options that meet the specified requirements.\"\n",
    "    User: \"Yes, I am looking for a restaurant where I can book a table.\"\n",
    "    Assistant: \"Get the answers from the User for all the seven parameters which are restaurant type, minimum rating, minimum number of reviews, average cost for 2 person, online order, table booking, area and cuisines type\"\n",
    "    Assistant: \"Thank you for confirming. Based on your requirements, I will now find the top 3 restaurants that match your criteria. Please hold on for a moment.\"\n",
    "    Assistant: \"Explicity states which of the requirements did not match user requirements:\"\n",
    "    Assistant: \"Start with a brief summary of each restaturant in the following format, in decreasing order of price of restaturants:\"\n",
    "    Assistant: \"Here are the top 3 restaurants that match your criteria:\"\n",
    "    1. <Restaurant Name> : <Major specifications of the restaurant>, The budget remaining after spending in the restaurant would be <Price in Rs>\n",
    "    2. <Restaurant Name> : <Major specifications of the restaurant>, The budget remaining after spending in the restaurant would be <Price in Rs>\n",
    "    3. <Restaurant Name> : <Major specifications of the restaurant>, The budget remaining after spending in the restaurant would be <Price in Rs>\n",
    "    {delimiter}\n",
    "\n",
    "    Start with a short welcome message and encourage the user to share their requirements.\n",
    "    \"\"\"\n",
    "    conversation = [{\"role\": \"system\", \"content\": system_message }]\n",
    "    return conversation"
   ]
  },
  {
   "cell_type": "markdown",
   "id": "9c42715d",
   "metadata": {},
   "source": [
    "## Function Description for the Function Calling API\n",
    "\n",
    "1. ### OpenAI tools call `compare_restaurants_features_with_user_described_restaurant_features()`: This function takes the assistant's response and evaluates if the chatbot has captured the user's profile"
   ]
  },
  {
   "cell_type": "code",
   "execution_count": 1502,
   "id": "b8426859",
   "metadata": {},
   "outputs": [],
   "source": [
    "function_descriptions = [\n",
    "            {\n",
    "                \"name\": \"compare_restaurants_with_user_described_features\",\n",
    "                \"description\": \"Get the top 3 restaurants from the catalogue, that best matches what the user is asking based on 'restaurant type','minimum rating','minimum number of reviews',\"\n",
    "                \"'average cost for 2 person', 'online order' , 'table booking', 'area' and 'cuisines type'.\",\n",
    "                \"parameters\": {\n",
    "                    \"type\": \"object\",\n",
    "                    \"properties\": {\n",
    "                        \"restaurant type\": {\n",
    "                            \"type\": \"string\",\n",
    "                            \"description\": \"The requirement of the user in restaurant type classfied\" ,\n",
    "                        },\n",
    "                        \"minimum rating\": {\n",
    "                            \"type\": \"string\",\n",
    "                            \"description\": \"The minimum rating of the restaurant as per the user requirement\" ,\n",
    "                        },\n",
    "                        \"average cost for 2 person\": {\n",
    "                            \"type\": \"string\",\n",
    "                            \"description\": \"The average cost for 2 person of the restaurant as per the user requirement\" ,\n",
    "                        },\n",
    "                        \"cuisines type\": {\n",
    "                            \"type\": \"string\",\n",
    "                            \"description\": \"The requirement of the user in cuisine type classfied\" ,\n",
    "                        },\n",
    "                        \"area\": {\n",
    "                            \"type\": \"string\",\n",
    "                            \"description\": \"The area of the restaurant as per the user requirement\" ,\n",
    "                        },\n",
    "                        \"online order\": {\n",
    "                            \"type\": \"string\",\n",
    "                            \"description\": \"The requirement of the user for restaurant's online order classfied as yes or no\" ,\n",
    "                        },\n",
    "                        \"table booking\": {\n",
    "                            \"type\": \"string\",\n",
    "                            \"description\": \"The requirement of the user for restaurant's table booking classfied as yes or no\" ,\n",
    "                        },\n",
    "                        \"minimum number of reviews\": {\n",
    "                            \"type\": \"integer\",\n",
    "                            \"description\": \"The minimum number of reviews of the restaurant as per the user requirement\" ,\n",
    "                        },\n",
    "\n",
    "                    },\n",
    "                    \"required\": [\"restaurant type\",\"minimum rating\",\"average cost for 2 person\",\"cuisines type\",\"area\",\"online order\",\"table booking\",\"minimum number of reviews\"],\n",
    "                },\n",
    "            }\n",
    "        ]"
   ]
  },
  {
   "cell_type": "markdown",
   "id": "660bebcf",
   "metadata": {},
   "source": [
    "Let's now look at the next functions.\n",
    "\n",
    "- ### `get_chat_model_completions()`: This takes the ongoing conversation as the input and returns the response by the assistant. We'll use the Chat Completions function for performing LLM calls to OpenAI."
   ]
  },
  {
   "cell_type": "code",
   "execution_count": 1504,
   "id": "fe99be98",
   "metadata": {},
   "outputs": [],
   "source": [
    "@retry(wait=wait_random_exponential(min=1, max=20), stop=stop_after_attempt(6))\n",
    "def get_chat_model_completions(messages):\n",
    "    response = openai.chat.completions.create(\n",
    "        model=\"gpt-4-0613\",\n",
    "        messages=messages,\n",
    "        temperature=0, # this is the degree of randomness of the model's output. This is set to 0 to get deterministic output.\n",
    "        max_tokens = 500,\n",
    "\n",
    "        functions=function_descriptions,\n",
    "        function_call=\"auto\",\n",
    "    )\n",
    "    return response.choices[0].message"
   ]
  },
  {
   "cell_type": "markdown",
   "id": "f70f970a",
   "metadata": {},
   "source": [
    "- ### `moderation_check()`:\n",
    " This checks if the user's or the assistant's message is inappropriate. If any of these is inappropriate, you can add a break statement to end the conversation."
   ]
  },
  {
   "cell_type": "code",
   "execution_count": 1506,
   "id": "b6bb261d",
   "metadata": {},
   "outputs": [],
   "source": [
    "# Define a function called moderation_check that takes user_input as a parameter.\n",
    "\n",
    "def moderation_check(user_input):\n",
    "    # Call the OpenAI API to perform moderation on the user's input.\n",
    "    response = openai.moderations.create(input=user_input, model=\"omni-moderation-latest\")\n",
    "\n",
    "    # Extract the moderation result from the API response.\n",
    "    moderation_output = response.results[0].flagged\n",
    "    # Check if the input was flagged by the moderation system.\n",
    "    if moderation_output == True:\n",
    "        # If flagged, return \"Flagged\"\n",
    "        return \"Flagged\"\n",
    "    else:\n",
    "        # If not flagged, return \"Not Flagged\"\n",
    "        return \"Not Flagged\""
   ]
  },
  {
   "cell_type": "markdown",
   "id": "7ac6bd5a-747b-402b-82d4-2b135cd42ab4",
   "metadata": {},
   "source": [
    "## Stage 2 - Implementing the Product Mapping and Information Extraction Layers"
   ]
  },
  {
   "cell_type": "markdown",
   "id": "2e001974",
   "metadata": {},
   "source": [
    "- ### `product_map_layer()`:\n",
    " This function combines all the required columns from the dataset file and create one additional column in the dict format for comparisons."
   ]
  },
  {
   "cell_type": "code",
   "execution_count": 1509,
   "id": "06addf8f",
   "metadata": {},
   "outputs": [],
   "source": [
    "# Implement the function to get the restaurant details\n",
    "\n",
    "def get_restaurant_details():\n",
    "# Read the dataset\n",
    "        df = pd.read_csv('/Users/sahilavasthi/upGrad/genai/project/' + 'zomato.csv')\n",
    "        # Create a new column 'restaurant_details' in the DataFrame, which will contain a dictionary of restaurant details.\n",
    "        df['restaurant_details'] = df.apply(lambda x: dict({\n",
    "                'restaurant type': x['restaurant type'],\n",
    "                'area': x['area'],\n",
    "                'cuisines type': x['cuisines type'],\n",
    "                'average cost for 2 person': x['avg cost (two people)'],\n",
    "                'minimum number of reviews': x['num of ratings'],\n",
    "                'minimum rating': x['rate (out of 5)'],\n",
    "                'online order': x['online_order'],\n",
    "                'table booking': x['table booking']\n",
    "        }), axis=1)\n",
    "\n",
    "        df_with_restaurant_details = df.copy()\n",
    "        return df_with_restaurant_details\n",
    "        \n",
    "\n",
    "#type(df['restaurant_details'][2].get('cuisines type'))\n"
   ]
  },
  {
   "cell_type": "markdown",
   "id": "e726dba8-e429-49ea-83c8-57b740991d0a",
   "metadata": {},
   "source": [
    "- ### `compare_restaurants_with_user_described_features()`:\n",
    " This function is used to compare the user defined requirements with the restaturant dataset"
   ]
  },
  {
   "cell_type": "code",
   "execution_count": 1511,
   "id": "a8226ed3",
   "metadata": {},
   "outputs": [],
   "source": [
    "def compare_restaurants_with_user_described_features(user_req_string):\n",
    "  # Read the dataset, and create a new column 'restaurant_details' in the DataFrame, which will contain a dictionary of restaurant details.  \n",
    "  df_with_restaurant_details = get_restaurant_details()\n",
    "\n",
    "  # Create 'Score' column in the DataFrame and initialize to 0\n",
    "  df_with_restaurant_details['Score'] = 0\n",
    "  for index, row in df_with_restaurant_details.iterrows():\n",
    "      user_product_match_str = row['restaurant_details']\n",
    "      score = 0\n",
    "      budget_remaining = 0.0\n",
    "\n",
    "      for key, user_value in user_req_string.items():\n",
    "        #if key.lower() == 'average cost for 2 person':\n",
    "        #    continue  # Skip budget comparison\n",
    "        restaurant_value = user_product_match_str.get(key, None)\n",
    "\n",
    "        if key == 'area':\n",
    "            if user_value.lower() == restaurant_value.lower():\n",
    "                ### If the area value is equal to the user value the score is incremented by 1\n",
    "                score += 1\n",
    "            else:\n",
    "                break\n",
    "\n",
    "        if key == 'restaurant type':\n",
    "              if user_value.lower() in restaurant_value.lower():\n",
    "                 ### If the restaurant type value is equal to the user value the score is incremented by 1\n",
    "                 score += 1\n",
    "              else:\n",
    "                break\n",
    "              \n",
    "        if key == 'online order':\n",
    "            if user_value.lower() == restaurant_value.lower():\n",
    "                ### If the online order value is equal to the user value the score is incremented by 1\n",
    "                score += 1\n",
    "            else:\n",
    "                continue\n",
    "\n",
    "        if key == 'table booking':\n",
    "            if user_value.lower() == restaurant_value.lower():\n",
    "                ### If the table booking value is equal to the user value the score is incremented by 1\n",
    "                score += 1\n",
    "            else:\n",
    "                continue\n",
    "\n",
    "        if key == 'minimum number of reviews':\n",
    "            ### If the minimum number of reviews is equal to the user value the score is incremented by 1\n",
    "            if restaurant_value >= user_value:\n",
    "                score += 1\n",
    "            if restaurant_value < user_value:\n",
    "                continue\n",
    "            \n",
    "        if key == 'minimum rating':\n",
    "            ### If the minimum rating is equal to the user value the score is incremented by 1\n",
    "            if restaurant_value >= float(user_value):\n",
    "                score += 1\n",
    "            if restaurant_value < float(user_value):\n",
    "                break\n",
    "\n",
    "        if key == 'average cost for 2 person':\n",
    "            ### If the minimum rating is equal to the user value the score is incremented by 1\n",
    "            if restaurant_value <= float(user_value):\n",
    "                score += 1\n",
    "                budget_remaining = float(user_value) - restaurant_value\n",
    "            if restaurant_value > float(user_value):\n",
    "                break\n",
    "\n",
    "        if key == 'cuisines type':\n",
    "           if user_value.lower() in restaurant_value.lower():\n",
    "                ### If the cuisines value is equal to the user value the score is incremented by 1\n",
    "                score += 1\n",
    "                if len(restaurant_value.lower().split(',')) > len(user_value.lower().split(',')):\n",
    "                    ### If the cuisines value is equal to the user value the score is incremented by 1\n",
    "                    score += 1\n",
    "           else:\n",
    "               break\n",
    "\n",
    "              \n",
    "      # Update the score in the DataFrame          \n",
    "      df_with_restaurant_details.loc[index, 'Score'] = score\n",
    "      df_with_restaurant_details.loc[index, 'Budget_remaining'] = budget_remaining\n",
    "\n",
    "  # Sort the restaurant by score in descending order and return the top 3 products\n",
    "  df_with_restaurant_details.to_csv(\"/Users/sahilavasthi/upGrad/genai/shop-assist/updated_reastaurant.csv\",index=False,header = True) \n",
    "  top_restaurants = df_with_restaurant_details.drop('restaurant_details', axis=1)\n",
    "  top_restaurants = top_restaurants.sort_values(by=['Score', 'Budget_remaining', 'rate (out of 5)'], ascending=[False, False, False]).head(3)\n",
    "  #top_restaurants.head()  \n",
    "\n",
    "\n",
    "  return top_restaurants.to_json(orient='records')"
   ]
  },
  {
   "cell_type": "markdown",
   "id": "72d9a4cc-c759-4953-9302-1712332ee54c",
   "metadata": {},
   "source": [
    "- ### `product_validation_layer()`:\n",
    "\n",
    "This function verifies that the restaurant recommendations are good enough, has score greater than equal to 5, and matches the user's requirements."
   ]
  },
  {
   "cell_type": "code",
   "execution_count": 1513,
   "id": "00b2626a-946a-41fc-b4bf-d4d71ad2e6cc",
   "metadata": {},
   "outputs": [],
   "source": [
    "def recommendation_validation(restaurant_recommendation):\n",
    "    data = json.loads(restaurant_recommendation)\n",
    "    data1 = []\n",
    "    for i in range(len(data)):\n",
    "      if data[i]['Score'] >= 5:\n",
    "        data1.append(data[i])\n",
    "\n",
    "    return json.dumps(data1)"
   ]
  },
  {
   "cell_type": "markdown",
   "id": "7f496bb5-dfd2-487d-a584-b67d0d9c34b2",
   "metadata": {},
   "source": [
    "## Stage 3 - Relevant Restaurants are recommended to the user"
   ]
  },
  {
   "cell_type": "code",
   "execution_count": 1515,
   "id": "66e35050-5a20-458a-bbd0-de558bb9fedd",
   "metadata": {},
   "outputs": [],
   "source": [
    "def restaurant_recommendation(conversation):\n",
    "    recommendation = get_chat_model_completions(conversation)\n",
    "    moderation = moderation_check(recommendation.content.strip())\n",
    "    if moderation == 'Flagged':\n",
    "        #display(\"Sorry, this message has been flagged. Please restart your conversation.\")\n",
    "        return 'Flagged'\n",
    "    conversation.append({\"role\": \"assistant\", \"content\": recommendation.content})\n",
    "    print(\"\\n\" +recommendation.content + \"\\n\")"
   ]
  },
  {
   "cell_type": "code",
   "execution_count": 1516,
   "id": "4c83912a",
   "metadata": {},
   "outputs": [],
   "source": [
    "def dialogue_mgmt_system():\n",
    "    conversation = initialize_conversation()\n",
    "    introduction = get_chat_model_completions(conversation).content\n",
    "    print(introduction + '\\n')\n",
    "    user_input = \"\"\n",
    "    while(user_input != \"exit\"):\n",
    "      user_input = input(\"\")\n",
    "        \n",
    "      moderation = moderation_check(user_input)\n",
    "      if moderation == 'Flagged':\n",
    "          display(\"Sorry, this message has been flagged. Please restart your conversation.\")\n",
    "          break\n",
    "            \n",
    "      conversation.append({\"role\": \"user\", \"content\": user_input})\n",
    "        \n",
    "      # Step 1: Pass the user input to GPT\n",
    "      response_assistant = get_chat_model_completions(conversation)\n",
    "      if response_assistant.content != None:\n",
    "          moderation = moderation_check(response_assistant.content.strip())\n",
    "          if moderation == 'Flagged':\n",
    "              display(\"Sorry, this message has been flagged. Please restart your conversation.\")\n",
    "              break\n",
    "    \n",
    "      if response_assistant.function_call:\n",
    "        print(\"\\nThank you for providing all the information. Kindly wait, while I fetch the products\\n\")\n",
    "          \n",
    "        # Step 2: Extract top3 restaurants by calling the external function\n",
    "        function_name = response_assistant.function_call.name\n",
    "        function_args = json.loads(response_assistant.function_call.arguments)\n",
    "        print(f\"User requirement: {function_args}\")\n",
    "        top_3_restaurants = compare_restaurants_with_user_described_features(function_args)\n",
    "        function_response = recommendation_validation(top_3_restaurants)\n",
    "        if len(function_response) == 0:\n",
    "          print(\"Sorry, we do not have restaurants that match your requirements. Connecting you to a human expert.\")\n",
    "          break\n",
    "            \n",
    "        # Step 3: send the info on the function call and function response to GPT\n",
    "        conversation.append(response_assistant)\n",
    "        conversation.append(\n",
    "            {\n",
    "                \"role\": \"function\",\n",
    "                \"name\": function_name,\n",
    "                \"content\": function_response,\n",
    "            }\n",
    "        )\n",
    "        moderation = restaurant_recommendation(conversation)\n",
    "        if moderation == 'Flagged':\n",
    "            display(\"Sorry, this message has been flagged. Please restart your conversation.\")\n",
    "            break\n",
    "      else:\n",
    "        conversation.append({\"role\": \"assistant\", \"content\": response_assistant.content})\n",
    "        print(\"\\n\" +  response_assistant.content + \"\\n\")"
   ]
  },
  {
   "cell_type": "code",
   "execution_count": 1517,
   "id": "d1030c43",
   "metadata": {},
   "outputs": [
    {
     "name": "stdout",
     "output_type": "stream",
     "text": [
      "Assistant: \"Hello! I'm here to help you find the perfect restaurant that suits your needs. Could you please share your requirements?\"\n",
      "\n"
     ]
    },
    {
     "name": "stdin",
     "output_type": "stream",
     "text": [
      "  I am looking for restaurant with budget of 5000\n"
     ]
    },
    {
     "name": "stdout",
     "output_type": "stream",
     "text": [
      "\n",
      "That's a good start. Could you please specify the type of restaurant you are looking for? For example, are you interested in Casual Dining, Quick Bites, Pub, Takeaway, or Delivery? Also, could you let me know the type of cuisine you prefer?\n",
      "\n"
     ]
    },
    {
     "name": "stdin",
     "output_type": "stream",
     "text": [
      " Quick Bites and cuisine will be North Indian\n"
     ]
    },
    {
     "name": "stdout",
     "output_type": "stream",
     "text": [
      "\n",
      "Great! You prefer Quick Bites and North Indian cuisine. Now, could you please tell me your preferred area? Also, do you have any specific requirements for the restaurant's rating and the minimum number of reviews it should have?\n",
      "\n"
     ]
    },
    {
     "name": "stdin",
     "output_type": "stream",
     "text": [
      " area will be Malleshwaram with rating 2 and reviews 20 \n"
     ]
    },
    {
     "name": "stdout",
     "output_type": "stream",
     "text": [
      "\n",
      "Thank you for providing that information. Just to clarify, are you looking for a restaurant that offers online ordering and table booking services?\n",
      "\n"
     ]
    },
    {
     "name": "stdin",
     "output_type": "stream",
     "text": [
      " for table booking\n"
     ]
    },
    {
     "name": "stdout",
     "output_type": "stream",
     "text": [
      "\n",
      "Thank you for providing all the information. Kindly wait, while I fetch the products\n",
      "\n",
      "User requirement: {'restaurant type': 'Quick Bites', 'minimum rating': '2', 'average cost for 2 person': '5000', 'cuisines type': 'North Indian', 'area': 'Malleshwaram', 'online order': 'No', 'table booking': 'Yes', 'minimum number of reviews': 20}\n",
      "\n",
      "Here are the top 3 restaurants that match your criteria:\n",
      "\n",
      "1. New Krishna Bhavan: This Quick Bites type restaurant serves South Indian, North Indian, and Chinese cuisines. It has a rating of 4.2 with 600 reviews. However, it does not offer online ordering or table booking. The average cost for two people is 200 INR. The budget remaining after spending in the restaurant would be 4800 INR.\n",
      "\n",
      "2. Dhanbad Food Stall: This Quick Bites type restaurant serves Bihari, North Indian, and Chinese cuisines. It has a rating of 2.8 with 40 reviews. It does not offer online ordering or table booking. The average cost for two people is 200 INR. The budget remaining after spending in the restaurant would be 4800 INR.\n",
      "\n",
      "3. Priyadarshini Veg: This Quick Bites type restaurant serves North Indian, South Indian, and Chinese cuisines. It has a rating of 3.9 with 156 reviews. It does not offer online ordering or table booking. The average cost for two people is 300 INR. The budget remaining after spending in the restaurant would be 4700 INR.\n",
      "\n",
      "Please note that none of these restaurants offer table booking as per your requirement.\n",
      "\n"
     ]
    },
    {
     "name": "stdin",
     "output_type": "stream",
     "text": [
      " change area to Old Airport Road\n"
     ]
    },
    {
     "name": "stdout",
     "output_type": "stream",
     "text": [
      "\n",
      "Thank you for providing all the information. Kindly wait, while I fetch the products\n",
      "\n",
      "User requirement: {'restaurant type': 'Quick Bites', 'minimum rating': '2', 'average cost for 2 person': '5000', 'cuisines type': 'North Indian', 'area': 'Old Airport Road', 'online order': 'No', 'table booking': 'Yes', 'minimum number of reviews': 20}\n",
      "\n",
      "Here are the top 3 restaurants that match your criteria in the Old Airport Road area:\n",
      "\n",
      "1. Cafe Srinidhi: This Quick Bites type restaurant serves South Indian, North Indian, Fast Food, and Street Food. It has a rating of 3.1 with 91 reviews. However, it does not offer online ordering or table booking. The average cost for two people is 200 INR. The budget remaining after spending in the restaurant would be 4800 INR.\n",
      "\n",
      "2. Dine @ 9 Paratha Corner: This Quick Bites type restaurant serves North Indian and Chinese cuisines. It has a rating of 3.6 with 33 reviews. It does not offer online ordering or table booking. The average cost for two people is 300 INR. The budget remaining after spending in the restaurant would be 4700 INR.\n",
      "\n",
      "3. Rajan's Cafe: This Quick Bites type restaurant serves North Indian, Chinese, and Fast Food. It has a rating of 2.8 with 79 reviews. It does not offer online ordering or table booking. The average cost for two people is 300 INR. The budget remaining after spending in the restaurant would be 4700 INR.\n",
      "\n",
      "Please note that none of these restaurants offer table booking as per your requirement.\n",
      "\n"
     ]
    },
    {
     "name": "stdin",
     "output_type": "stream",
     "text": [
      " exit\n"
     ]
    },
    {
     "name": "stdout",
     "output_type": "stream",
     "text": [
      "\n",
      "Sure, if you have any more questions in the future, feel free to ask. Have a great day!\n",
      "\n"
     ]
    }
   ],
   "source": [
    "dialogue_mgmt_system()"
   ]
  },
  {
   "cell_type": "code",
   "execution_count": 1518,
   "id": "1745ff7a-ec28-4c72-af8d-07af86023ab8",
   "metadata": {},
   "outputs": [
    {
     "data": {
      "text/plain": [
       "<IPython.core.autocall.ZMQExitAutocall at 0x1059d0ac0>"
      ]
     },
     "execution_count": 1518,
     "metadata": {},
     "output_type": "execute_result"
    }
   ],
   "source": [
    "exit\n",
    "\n"
   ]
  },
  {
   "cell_type": "code",
   "execution_count": 1536,
   "id": "ec013270-83fd-4b38-924c-d0121d8edb84",
   "metadata": {},
   "outputs": [
    {
     "name": "stdout",
     "output_type": "stream",
     "text": [
      "Assistant: \"Hello! I'm here to help you find the perfect restaurant that suits your needs. Could you please share your requirements?\"\n",
      "\n"
     ]
    },
    {
     "name": "stdin",
     "output_type": "stream",
     "text": [
      " I am looking for restaurant with budget of 500\n"
     ]
    },
    {
     "name": "stdout",
     "output_type": "stream",
     "text": [
      "\n",
      "Sure, I can help you with that. To narrow down the options, could you please specify the type of restaurant you are looking for? For example, are you interested in Casual Dining, Quick Bites, Pub, Takeaway, or Delivery? Also, could you please tell me your preferred area?\n",
      "\n"
     ]
    },
    {
     "name": "stdin",
     "output_type": "stream",
     "text": [
      " Quick Bites and area would be Malleshwaram\n"
     ]
    },
    {
     "name": "stdout",
     "output_type": "stream",
     "text": [
      "\n",
      "Great! Now, could you please tell me your preferences regarding the cuisine type? Also, do you have any specific requirements for the minimum rating of the restaurant?\n",
      "\n"
     ]
    },
    {
     "name": "stdin",
     "output_type": "stream",
     "text": [
      " Cuisine type could be Seafood and with rating of 3\n"
     ]
    },
    {
     "name": "stdout",
     "output_type": "stream",
     "text": [
      "\n",
      "Thank you for the information. To ensure I have a complete understanding of your needs, I have two more questions: Are you looking for a restaurant that offers online ordering? And do you want to book a table at the restaurant?\n",
      "\n"
     ]
    },
    {
     "name": "stdin",
     "output_type": "stream",
     "text": [
      " online ordering\n"
     ]
    },
    {
     "name": "stdout",
     "output_type": "stream",
     "text": [
      "\n",
      "Thank you for your response. So, you are looking for a Quick Bites type restaurant in the Malleshwaram area that serves Seafood, has a minimum rating of 3, and offers online ordering. Do you have any specific requirements for the minimum number of reviews the restaurant should have?\n",
      "\n"
     ]
    },
    {
     "name": "stdin",
     "output_type": "stream",
     "text": [
      " reviews could be 50\n"
     ]
    },
    {
     "name": "stdout",
     "output_type": "stream",
     "text": [
      "\n",
      "Thank you for providing all the information. Kindly wait, while I fetch the products\n",
      "\n",
      "User requirement: {'restaurant type': 'Quick Bites', 'minimum rating': '3', 'average cost for 2 person': '500', 'cuisines type': 'Seafood', 'area': 'Malleshwaram', 'online order': 'Yes', 'table booking': 'No', 'minimum number of reviews': 50}\n",
      "\n",
      "Here are the top 3 restaurants that match your criteria:\n",
      "\n",
      "1. Halli Mane Donne Biriyani: This Quick Bites type restaurant is located in Rajajinagar, Malleshwaram. It serves Biryani and Seafood, has a rating of 4.1 with 87 ratings, and offers online ordering. The average cost for two people is 400 INR. The budget remaining after spending in the restaurant would be 100 INR.\n",
      "\n",
      "2. Fish Corner: This Quick Bites type restaurant is located in Yeshwantpur, Malleshwaram. It serves North Indian, Chinese, and Seafood, has a rating of 3.7 with 118 ratings, and offers online ordering. The average cost for two people is 400 INR. The budget remaining after spending in the restaurant would be 100 INR.\n",
      "\n",
      "3. Kudla Beach: This Quick Bites type restaurant is located in Rajajinagar, Malleshwaram. It serves North Indian, South Indian, Seafood, and Chinese, has a rating of 3.5 with 141 ratings, and offers online ordering. The average cost for two people is 400 INR. The budget remaining after spending in the restaurant would be 100 INR.\n",
      "\n",
      "Please let me know if you need more information about these restaurants.\n",
      "\n"
     ]
    },
    {
     "name": "stdin",
     "output_type": "stream",
     "text": [
      " ok Can I now buy a Gun\n"
     ]
    },
    {
     "data": {
      "text/plain": [
       "'Sorry, this message has been flagged. Please restart your conversation.'"
      ]
     },
     "metadata": {},
     "output_type": "display_data"
    }
   ],
   "source": [
    "dialogue_mgmt_system()"
   ]
  },
  {
   "cell_type": "code",
   "execution_count": 1538,
   "id": "6d3b3c62-8a2b-4f22-a9f5-d6ad21ee879c",
   "metadata": {},
   "outputs": [
    {
     "name": "stdout",
     "output_type": "stream",
     "text": [
      "Assistant: \"Hello! I'm here to help you find the perfect restaurant that suits your needs. Could you please share your requirements?\"\n",
      "\n"
     ]
    },
    {
     "name": "stdin",
     "output_type": "stream",
     "text": [
      " I am looking for a restaurant type for Delivery\n"
     ]
    },
    {
     "name": "stdout",
     "output_type": "stream",
     "text": [
      "\n",
      "Great! You're looking for a restaurant that offers delivery. To help me find the best options for you, could you please tell me your preferred cuisine type and the area where you want the delivery?\n",
      "\n"
     ]
    },
    {
     "name": "stdin",
     "output_type": "stream",
     "text": [
      " Bakery and area would be Indiranagar\n"
     ]
    },
    {
     "name": "stdout",
     "output_type": "stream",
     "text": [
      "\n",
      "Perfect! You're looking for a bakery that delivers in Indiranagar. To further narrow down the options, could you please tell me your budget for 2 people and your minimum rating for the restaurant?\n",
      "\n"
     ]
    },
    {
     "name": "stdin",
     "output_type": "stream",
     "text": [
      " 1000 and rating could be 2\n"
     ]
    },
    {
     "name": "stdout",
     "output_type": "stream",
     "text": [
      "\n",
      "Thank you for sharing your budget and rating preference. Now, could you please tell me if you have a preference for the minimum number of reviews a restaurant should have? Also, do you prefer restaurants that offer online ordering and table booking options?\n",
      "\n"
     ]
    },
    {
     "name": "stdin",
     "output_type": "stream",
     "text": [
      " reviews may be 50 I will prefer table booking\n"
     ]
    },
    {
     "name": "stdout",
     "output_type": "stream",
     "text": [
      "\n",
      "Thank you for providing all the information. Kindly wait, while I fetch the products\n",
      "\n",
      "User requirement: {'restaurant type': 'Bakery', 'minimum rating': '2', 'average cost for 2 person': '1000', 'cuisines type': 'Bakery', 'area': 'Indiranagar', 'online order': 'No', 'table booking': 'Yes', 'minimum number of reviews': 50}\n",
      "\n",
      "Here are the top 3 restaurants that match your criteria:\n",
      "\n",
      "1. Lazy Suzy: This is a Cafe and Bakery type restaurant located in Indiranagar. It has a rating of 4.3 with 1235 reviews. The average cost for two people is 1000. They offer online ordering and table booking. The budget remaining after spending in the restaurant would be 0 INR.\n",
      "\n",
      "2. The Rolling Pin: This is a Bakery and Dessert Parlor located in Indiranagar. It has a rating of 4.0 with 74 reviews. The average cost for two people is 400. They do not offer online ordering and table booking. The budget remaining after spending in the restaurant would be 600 INR.\n",
      "\n",
      "3. KrumbKraft: This is a Bakery located in Indiranagar. It has a rating of 3.5 with 5 reviews. The average cost for two people is 300. They do not offer online ordering and table booking. The budget remaining after spending in the restaurant would be 700 INR.\n",
      "\n",
      "Please note that the availability of table booking and online ordering may vary. It's always a good idea to check with the restaurant directly.\n",
      "\n"
     ]
    },
    {
     "name": "stdin",
     "output_type": "stream",
     "text": [
      " exit\n"
     ]
    },
    {
     "name": "stdout",
     "output_type": "stream",
     "text": [
      "\n",
      "Sure, feel free to reach out anytime if you need more help. Have a great day!\n",
      "\n"
     ]
    }
   ],
   "source": [
    "dialogue_mgmt_system()"
   ]
  },
  {
   "cell_type": "code",
   "execution_count": null,
   "id": "6b22d2e6-52da-45f3-b11c-1d511d85074e",
   "metadata": {},
   "outputs": [],
   "source": []
  }
 ],
 "metadata": {
  "kernelspec": {
   "display_name": "Python 3 (ipykernel)",
   "language": "python",
   "name": "python3"
  },
  "language_info": {
   "codemirror_mode": {
    "name": "ipython",
    "version": 3
   },
   "file_extension": ".py",
   "mimetype": "text/x-python",
   "name": "python",
   "nbconvert_exporter": "python",
   "pygments_lexer": "ipython3",
   "version": "3.10.9"
  }
 },
 "nbformat": 4,
 "nbformat_minor": 5
}
